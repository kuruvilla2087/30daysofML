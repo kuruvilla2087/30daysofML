{
 "cells": [
  {
   "cell_type": "markdown",
   "metadata": {},
   "source": [
    "## We implement linear regression in this notebook. Use diabetes dataset as an example"
   ]
  },
  {
   "cell_type": "markdown",
   "metadata": {},
   "source": [
    "## Load the diabetes data and see its shape"
   ]
  },
  {
   "cell_type": "code",
   "execution_count": 1,
   "metadata": {},
   "outputs": [
    {
     "name": "stdout",
     "output_type": "stream",
     "text": [
      "# of samples: 442\n",
      "# of features: 10\n"
     ]
    }
   ],
   "source": [
    "from sklearn.datasets import load_diabetes\n",
    "\n",
    "diabetes = load_diabetes()\n",
    "print('# of samples:',diabetes.data.shape[0])\n",
    "print('# of features:',diabetes.data.shape[1])"
   ]
  },
  {
   "cell_type": "markdown",
   "metadata": {},
   "source": [
    "## We only take one feature since we want to visualize the result. We take feature 'Body mass index' which seems relevant to diabetes\n",
    "\n",
    "## Split the data to train (80%) and test (20%) sets to see our performance"
   ]
  },
  {
   "cell_type": "code",
   "execution_count": 2,
   "metadata": {
    "collapsed": true
   },
   "outputs": [],
   "source": [
    "from sklearn.model_selection import train_test_split\n",
    "import numpy as np\n",
    "\n",
    "# Body mass index feature is the third one, whose index is 2\n",
    "X = diabetes.data[:, np.newaxis, 2]\n",
    "y = diabetes.target\n",
    "\n",
    "X_train, X_test, y_train, y_test = train_test_split(X, y, test_size=0.2, random_state=10)"
   ]
  },
  {
   "cell_type": "markdown",
   "metadata": {},
   "source": [
    "## Build the model. We use gradient descent algorithm here.\n",
    "\n",
    "## First define the cost function MSE"
   ]
  },
  {
   "cell_type": "code",
   "execution_count": 3,
   "metadata": {
    "collapsed": true
   },
   "outputs": [],
   "source": [
    "def MSE(b,m,points, labels):\n",
    "    totalError = 0.\n",
    "    for i in range(len(points)):\n",
    "        x = points[i][0]\n",
    "        y = labels[i]\n",
    "        totalError += (y-(m*x + b)) ** 2\n",
    "    return totalError/ len(points)"
   ]
  },
  {
   "cell_type": "markdown",
   "metadata": {},
   "source": [
    "## Then we can write our gradient descent algorithm"
   ]
  },
  {
   "cell_type": "code",
   "execution_count": 4,
   "metadata": {
    "collapsed": true
   },
   "outputs": [],
   "source": [
    "def step_gradient(b, m, points, labels, learning_rate):\n",
    "    b_gradient = 0\n",
    "    m_gradient = 0\n",
    "    N = float(len(points))\n",
    "    for i in range(len(points)):\n",
    "        x = points[i][0]\n",
    "        y = labels[i]\n",
    "        b_gradient += -(1/N) * (y - (m * x + b))\n",
    "        m_gradient += -(1/N) * x * (y - (m * x + b))\n",
    "    new_b = b - (learning_rate * b_gradient)\n",
    "    new_m = m - (learning_rate * m_gradient) \n",
    "    return [new_b,new_m]\n",
    "\n",
    "def gradient_descent(points, labels, init_b=0, init_m=0, num_iteartions=100000, learning_rate=0.01):\n",
    "    b = init_b\n",
    "    m = init_m\n",
    "    for i in range(num_iteartions):\n",
    "        b,m = step_gradient(b, m, points, labels, learning_rate)\n",
    "        if i%10000==0:\n",
    "            print(\"After {0} iterations b = {1}, m = {2}, error = {3}\".format(i, b, m, MSE(b, m, points, labels)))\n",
    "    return [b,m]"
   ]
  },
  {
   "cell_type": "markdown",
   "metadata": {},
   "source": [
    "## We can run our model now"
   ]
  },
  {
   "cell_type": "code",
   "execution_count": 5,
   "metadata": {},
   "outputs": [
    {
     "name": "stdout",
     "output_type": "stream",
     "text": [
      "Starting gradient descent at b = 0, m = 0, error = 29229.68838526912\n",
      "Running...\n",
      "After 0 iterations b = 1.529178470254957, m = 0.02142624929794748, error = 28764.257636142942\n",
      "After 10000 iterations b = 152.80965469795495, m = 184.82753213782155, error = 5160.360247058913\n",
      "After 20000 iterations b = 152.72139841666478, m = 333.9237083535424, error = 4714.072399907466\n",
      "After 30000 iterations b = 152.65016127951642, m = 454.26851099101475, error = 4423.311015630683\n",
      "After 40000 iterations b = 152.59266135276985, m = 551.4062907077572, error = 4233.876812736387\n",
      "After 50000 iterations b = 152.54624958345687, m = 629.8122379651815, error = 4110.458370100144\n",
      "After 60000 iterations b = 152.50878775606603, m = 693.0985574925668, error = 4030.0499129681602\n",
      "After 70000 iterations b = 152.47854998378892, m = 744.1808845279384, error = 3977.662928979063\n",
      "After 80000 iterations b = 152.45414319597424, m = 785.41260972282, error = 3943.5322393804577\n",
      "After 90000 iterations b = 152.43444295860314, m = 818.6933011323765, error = 3921.2957240521687\n",
      "After 100000 iterations b = 152.4185430968952, m = 845.5538095105431, error = 3906.8095530601654\n"
     ]
    }
   ],
   "source": [
    "print(\"Starting gradient descent at b = {0}, m = {1}, error = {2}\".format(0, 0, MSE(0, 0, X_train, y_train)))\n",
    "print(\"Running...\")\n",
    "[b, m] = gradient_descent(X_train, y_train)\n",
    "print(\"After {0} iterations b = {1}, m = {2}, error = {3}\".format(100000, b, m, MSE(b, m, X_train, y_train)))\n"
   ]
  },
  {
   "cell_type": "markdown",
   "metadata": {},
   "source": [
    "## Test our model"
   ]
  },
  {
   "cell_type": "code",
   "execution_count": 6,
   "metadata": {},
   "outputs": [
    {
     "name": "stdout",
     "output_type": "stream",
     "text": [
      "3947.2506817817534\n"
     ]
    }
   ],
   "source": [
    "lr = lambda data: b+m*data\n",
    "\n",
    "predict_y = lr(X_test)\n",
    "from sklearn.metrics import mean_squared_error\n",
    "\n",
    "MSE = mean_squared_error(y_test, predict_y)\n",
    "print(MSE)"
   ]
  },
  {
   "cell_type": "markdown",
   "metadata": {},
   "source": [
    "## Visualize the result"
   ]
  },
  {
   "cell_type": "code",
   "execution_count": 7,
   "metadata": {},
   "outputs": [
    {
     "data": {
      "text/plain": [
       "[<matplotlib.lines.Line2D at 0x116615c50>]"
      ]
     },
     "execution_count": 7,
     "metadata": {},
     "output_type": "execute_result"
    },
    {
     "data": {
      "image/png": "[encoded data removed]",
      "text/plain": [
       "<matplotlib.figure.Figure at 0x1166150f0>"
      ]
     },
     "metadata": {},
     "output_type": "display_data"
    }
   ],
   "source": [
    "import matplotlib.pyplot as plt\n",
    "%matplotlib inline  \n",
    "\n",
    "x_draw = np.linspace(-0.1, 0.15)\n",
    "y_draw = lr(x_draw)\n",
    "\n",
    "plt.xlabel('BMI')\n",
    "plt.ylabel(\"Measure of disease progression\")\n",
    "plt.scatter(X_test, y_test,  color='black')\n",
    "plt.plot(x_draw, y_draw, color='blue', linewidth=3)"
   ]
  },
  {
   "cell_type": "code",
   "execution_count": null,
   "metadata": {
    "collapsed": true
   },
   "outputs": [],
   "source": []
  }
 ],
 "metadata": {
  "kernelspec": {
   "display_name": "Python [conda env:ipykernel_py3]",
   "language": "python",
   "name": "conda-env-ipykernel_py3-py"
  },
  "language_info": {
   "codemirror_mode": {
    "name": "ipython",
    "version": 3
   },
   "file_extension": ".py",
   "mimetype": "text/x-python",
   "name": "python",
   "nbconvert_exporter": "python",
   "pygments_lexer": "ipython3",
   "version": "3.6.2"
  }
 },
 "nbformat": 4,
 "nbformat_minor": 1
}
