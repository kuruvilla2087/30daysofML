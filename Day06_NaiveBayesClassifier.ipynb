{
 "cells": [
  {
   "cell_type": "markdown",
   "metadata": {},
   "source": [
    "## It has 2 parts in this notebook. First, we try 3 types of naive bayes built-in scikit learn on Iris dataset.\n",
    "\n",
    "## Second, we try text classification (imdb movie review data) and compare the result."
   ]
  },
  {
   "cell_type": "markdown",
   "metadata": {},
   "source": [
    "## Part 1: Iris dataset"
   ]
  },
  {
   "cell_type": "code",
   "execution_count": 1,
   "metadata": {
    "collapsed": true
   },
   "outputs": [],
   "source": [
    "from sklearn import datasets\n",
    "from sklearn.model_selection import train_test_split\n",
    "from sklearn.naive_bayes import GaussianNB, MultinomialNB, BernoulliNB\n",
    "import numpy as np\n",
    "import matplotlib.pyplot as plt\n",
    "%matplotlib inline"
   ]
  },
  {
   "cell_type": "code",
   "execution_count": 2,
   "metadata": {
    "collapsed": true
   },
   "outputs": [],
   "source": [
    "iris = datasets.load_iris()\n",
    "Xtr,Xva,Ytr,Yva = train_test_split(iris.data, iris.target, test_size=0.2, random_state=10)"
   ]
  },
  {
   "cell_type": "code",
   "execution_count": 3,
   "metadata": {},
   "outputs": [
    {
     "name": "stdout",
     "output_type": "stream",
     "text": [
      "Accuracy: 1.000000\n"
     ]
    }
   ],
   "source": [
    "gnb = GaussianNB()\n",
    "y_pred = gnb.fit(Xtr, Ytr).predict(Xva)\n",
    "total = float(len(y_pred))\n",
    "gnb_accuracy = (Yva == y_pred).sum() / total\n",
    "print('Accuracy: %f' % gnb_accuracy)"
   ]
  },
  {
   "cell_type": "code",
   "execution_count": 4,
   "metadata": {},
   "outputs": [
    {
     "name": "stdout",
     "output_type": "stream",
     "text": [
      "Accuracy: 0.600000\n"
     ]
    }
   ],
   "source": [
    "mnb = MultinomialNB()\n",
    "y_pred = mnb.fit(Xtr, Ytr).predict(Xva)\n",
    "mnb_accuracy = (Yva == y_pred).sum() / total\n",
    "print('Accuracy: %f' % mnb_accuracy)"
   ]
  },
  {
   "cell_type": "code",
   "execution_count": 5,
   "metadata": {},
   "outputs": [
    {
     "name": "stdout",
     "output_type": "stream",
     "text": [
      "Accuracy: 0.233333\n"
     ]
    }
   ],
   "source": [
    "bnb = BernoulliNB()\n",
    "y_pred = bnb.fit(Xtr, Ytr).predict(Xva)\n",
    "bnb_accuracy = (Yva == y_pred).sum() / total\n",
    "print('Accuracy: %f' % bnb_accuracy)"
   ]
  },
  {
   "cell_type": "code",
   "execution_count": 6,
   "metadata": {},
   "outputs": [
    {
     "data": {
      "text/plain": [
       "[<matplotlib.lines.Line2D at 0x115ef7978>]"
      ]
     },
     "execution_count": 6,
     "metadata": {},
     "output_type": "execute_result"
    },
    {
     "data": {
      "image/png": "[encoded data removed]",
      "text/plain": [
       "<matplotlib.figure.Figure at 0x115ef7908>"
      ]
     },
     "metadata": {},
     "output_type": "display_data"
    }
   ],
   "source": [
    "x = [1,2,3]\n",
    "y = [gnb_accuracy, mnb_accuracy, bnb_accuracy]\n",
    "\n",
    "my_xticks = ['GaussianNB','MultinomialNB','BernoulliNB']\n",
    "plt.xticks(x, my_xticks)\n",
    "plt.plot(x,y)"
   ]
  },
  {
   "cell_type": "markdown",
   "metadata": {},
   "source": [
    "## We can see that Gaussian NB has highest accuracy. It seems that iris dataset has Gaussian distribution."
   ]
  },
  {
   "cell_type": "markdown",
   "metadata": {},
   "source": [
    "## Part 2: IMDB Movie Review Dataset"
   ]
  },
  {
   "cell_type": "markdown",
   "metadata": {},
   "source": [
    "## Now we try text classification. We use imdb movie review data. We download the data from keras. You can also find the desciption of the dataset here: https://www.imdb.com/interfaces/\n",
    "\n",
    "## Reviews have been preprocessed by keras, and each review is encoded as a sequence of word indexes (integers). Hence, we don't need to worry about this part here. You can find the document here: https://keras.io/datasets/\n",
    "\n",
    "## Here we only take top 10000 most frequent words into consideration."
   ]
  },
  {
   "cell_type": "code",
   "execution_count": 7,
   "metadata": {},
   "outputs": [
    {
     "name": "stderr",
     "output_type": "stream",
     "text": [
      "Using TensorFlow backend.\n"
     ]
    }
   ],
   "source": [
    "from keras.datasets import imdb"
   ]
  },
  {
   "cell_type": "code",
   "execution_count": 8,
   "metadata": {
    "collapsed": true
   },
   "outputs": [],
   "source": [
    "(x_train, y_train), (x_test, y_test) = imdb.load_data(num_words=10000, seed=2018)"
   ]
  },
  {
   "cell_type": "code",
   "execution_count": 9,
   "metadata": {},
   "outputs": [
    {
     "name": "stdout",
     "output_type": "stream",
     "text": [
      "train_data  (25000,)\n",
      "train_labels  (25000,)\n",
      "\n",
      "test_data  (25000,)\n",
      "test_labels  (25000,)\n"
     ]
    }
   ],
   "source": [
    "print(\"train_data \", x_train.shape)\n",
    "print(\"train_labels \", y_train.shape)\n",
    "print()\n",
    "print(\"test_data \", x_test.shape)\n",
    "print(\"test_labels \", y_test.shape)"
   ]
  },
  {
   "cell_type": "markdown",
   "metadata": {},
   "source": [
    "## Let's take a look at actual review."
   ]
  },
  {
   "cell_type": "code",
   "execution_count": 10,
   "metadata": {},
   "outputs": [
    {
     "name": "stdout",
     "output_type": "stream",
     "text": [
      "? this must me one of the worst takes on vampires ever conceived by men how can one turn such a mesmerizing subject into a totally uninspiring story ? not such a difficult task first of all a ? ? ? non of any ? is a dark and gloomy atmosphere with a nice sexy touch this one lacks all these things too much light the spots oh my god why in the name of christ ? was that about br br every time dracula came about he was ? by light in the script to keep him weak for the record just weak there was only one scene that made it almost worth watching near the ending of the movie ? ? with dracula and his new conquest i really enjoyed the first one the ? twist was ? original but this one's just not good not in any way hopefully the third one will cary the vampire signature i like so much in other classics like ? ? ? dracula or even interview with the vampire\n",
      "\n",
      "label: 0\n"
     ]
    }
   ],
   "source": [
    "word_index = imdb.get_word_index()\n",
    "\n",
    "reverse_dict = dict([(value, key) for (key, value) in word_index.items()])\n",
    "\n",
    "actual_review = ' '.join([reverse_dict.get(i - 3, '?') for i in x_train[2018]])\n",
    "\n",
    "print(actual_review)\n",
    "print()\n",
    "print('label:', y_train[2018])"
   ]
  },
  {
   "cell_type": "markdown",
   "metadata": {},
   "source": [
    "## Here we use one hot encoding for our feature since BernoulliNB is a binary-valued variables model."
   ]
  },
  {
   "cell_type": "code",
   "execution_count": 11,
   "metadata": {
    "collapsed": true
   },
   "outputs": [],
   "source": [
    "def onehot_encoding(sequences, dimension=10000):\n",
    "    onehot = np.zeros((len(sequences), dimension))\n",
    "    for i, sequence in enumerate(sequences):\n",
    "        onehot[i, sequence] = 1.\n",
    "    return onehot"
   ]
  },
  {
   "cell_type": "code",
   "execution_count": 12,
   "metadata": {},
   "outputs": [
    {
     "name": "stdout",
     "output_type": "stream",
     "text": [
      "x_train  (25000, 10000)\n",
      "x_test  (25000, 10000)\n"
     ]
    }
   ],
   "source": [
    "x_train = onehot_encoding(x_train)\n",
    "x_test = onehot_encoding(x_test)\n",
    "\n",
    "print(\"x_train \", x_train.shape)\n",
    "print(\"x_test \", x_test.shape)"
   ]
  },
  {
   "cell_type": "markdown",
   "metadata": {},
   "source": [
    "## Then we try our 3 different naive bayes models."
   ]
  },
  {
   "cell_type": "code",
   "execution_count": 13,
   "metadata": {},
   "outputs": [
    {
     "name": "stdout",
     "output_type": "stream",
     "text": [
      "Accuracy: 0.696440\n"
     ]
    }
   ],
   "source": [
    "gnb = GaussianNB()\n",
    "gnb.fit(x_train, y_train)\n",
    "y_pred = gnb.predict(x_test)\n",
    "total = float(len(y_pred))\n",
    "gnb_accuracy = (y_test == y_pred).sum() / total\n",
    "print('Accuracy: %f' % gnb_accuracy)"
   ]
  },
  {
   "cell_type": "code",
   "execution_count": 14,
   "metadata": {},
   "outputs": [
    {
     "name": "stdout",
     "output_type": "stream",
     "text": [
      "Accuracy: 0.839360\n"
     ]
    }
   ],
   "source": [
    "mnb = MultinomialNB()\n",
    "mnb.fit(x_train, y_train)\n",
    "y_pred = mnb.predict(x_test)\n",
    "mnb_accuracy = (y_test == y_pred).sum() / total\n",
    "print('Accuracy: %f' % mnb_accuracy)"
   ]
  },
  {
   "cell_type": "code",
   "execution_count": 15,
   "metadata": {},
   "outputs": [
    {
     "name": "stdout",
     "output_type": "stream",
     "text": [
      "Accuracy: 0.840440\n"
     ]
    }
   ],
   "source": [
    "bnb = BernoulliNB()\n",
    "bnb.fit(x_train, y_train)\n",
    "y_pred = bnb.predict(x_test)\n",
    "bnb_accuracy = (y_test == y_pred).sum() / total\n",
    "print('Accuracy: %f' % bnb_accuracy)"
   ]
  },
  {
   "cell_type": "code",
   "execution_count": 16,
   "metadata": {},
   "outputs": [
    {
     "data": {
      "text/plain": [
       "[<matplotlib.lines.Line2D at 0x12ab2f748>]"
      ]
     },
     "execution_count": 16,
     "metadata": {},
     "output_type": "execute_result"
    },
    {
     "data": {
      "image/png": "[encoded data removed]",
      "text/plain": [
       "<matplotlib.figure.Figure at 0x10a5840f0>"
      ]
     },
     "metadata": {},
     "output_type": "display_data"
    }
   ],
   "source": [
    "x = [1,2,3]\n",
    "y = [gnb_accuracy, mnb_accuracy, bnb_accuracy]\n",
    "\n",
    "my_xticks = ['GaussianNB','MultinomialNB','BernoulliNB']\n",
    "plt.xticks(x, my_xticks)\n",
    "plt.plot(x,y)"
   ]
  },
  {
   "cell_type": "code",
   "execution_count": null,
   "metadata": {
    "collapsed": true
   },
   "outputs": [],
   "source": []
  }
 ],
 "metadata": {
  "kernelspec": {
   "display_name": "Python [conda env:ipykernel_py3]",
   "language": "python",
   "name": "conda-env-ipykernel_py3-py"
  },
  "language_info": {
   "codemirror_mode": {
    "name": "ipython",
    "version": 3
   },
   "file_extension": ".py",
   "mimetype": "text/x-python",
   "name": "python",
   "nbconvert_exporter": "python",
   "pygments_lexer": "ipython3",
   "version": "3.6.2"
  }
 },
 "nbformat": 4,
 "nbformat_minor": 1
}
